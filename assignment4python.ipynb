{
 "cells": [
  {
   "cell_type": "code",
   "execution_count": 1,
   "id": "9faa1e6b",
   "metadata": {},
   "outputs": [
    {
     "name": "stdout",
     "output_type": "stream",
     "text": [
      "enter first number:6\n",
      "enter second number:9\n",
      "Choose the option:\n",
      " 1.Add\n",
      " 2.Subtract\n",
      " 3.Divide\n",
      " 4.Multiply\n",
      " 5.Power\n",
      "Operation : 4\n",
      "54\n",
      "True\n"
     ]
    }
   ],
   "source": [
    "#calculator\n",
    "def summ(a,b):\n",
    "    return(a+b)\n",
    "\n",
    "def subt(a,b):\n",
    "    return(a-b)\n",
    "\n",
    "def divide(a,b):\n",
    "    return(a/b)\n",
    "\n",
    "def multiply(a,b):\n",
    "    return(a*b)\n",
    "\n",
    "def power(a,b):\n",
    "    return(a**b)\n",
    "\n",
    "def calc():\n",
    "    num1=int(input(\"enter first number:\"))\n",
    "    num2=int(input(\"enter second number:\"))\n",
    "    print(\"Choose the option:\\n 1.Add\\n 2.Subtract\\n 3.Divide\\n 4.Multiply\\n 5.Power\")\n",
    "    choice=input(\"Operation : \")\n",
    "    if choice==\"1\":\n",
    "        print(summ(num1,num2))\n",
    "    elif choice==\"2\":\n",
    "        print(subt(num1,num2))\n",
    "    elif choice==\"3\":\n",
    "        print(divide(num1,num2))\n",
    "    elif choice==\"4\":\n",
    "        print(multiply(num1,num2))\n",
    "    elif choice==\"5\":\n",
    "        print(power(num1,num2))\n",
    "    return(True)\n",
    "print(calc())"
   ]
  },
  {
   "cell_type": "code",
   "execution_count": 4,
   "id": "314bf7b0",
   "metadata": {},
   "outputs": [
    {
     "name": "stdout",
     "output_type": "stream",
     "text": [
      "Numeric value found at 2\n",
      "Numeric value found at 4\n"
     ]
    }
   ],
   "source": [
    "list1=['aisah','5a6',\"45\",'gau7',\"7\"]\n",
    "for i in range(len(list1)):\n",
    "    if list1[i].isdigit()==True:\n",
    "        print(\"Numeric value found at \" + str(i))"
   ]
  },
  {
   "cell_type": "code",
   "execution_count": 7,
   "id": "627f0af7",
   "metadata": {},
   "outputs": [
    {
     "name": "stdout",
     "output_type": "stream",
     "text": [
      "{'name': 'mahshid', 'l_name': 'fatima', 'age': '19', 'dept': 'BCIT'}\n"
     ]
    }
   ],
   "source": [
    "#add key to dictionary\n",
    "dict={'name':'mahshid','l_name':'fatima'\n",
    "}\n",
    "dict['age']='19'\n",
    "dict.update(dept='BCIT')\n",
    "print(dict)"
   ]
  },
  {
   "cell_type": "code",
   "execution_count": 8,
   "id": "f9427e9a",
   "metadata": {},
   "outputs": [
    {
     "name": "stdout",
     "output_type": "stream",
     "text": [
      "True\n",
      "True\n",
      "499\n"
     ]
    }
   ],
   "source": [
    "#write a pyhton program to sum all numeric items in dictionary\n",
    "dict={'val1':'abc' , 'val2' : '454' , 'val3':'cb3r43b' , 'val4':'45'}\n",
    "summ=0\n",
    "for key,value in dict.items():\n",
    "    if value.isdigit()==True:\n",
    "        print(True)\n",
    "        summ=summ+int(value)\n",
    "print(summ)"
   ]
  },
  {
   "cell_type": "code",
   "execution_count": 10,
   "id": "8c44ae56",
   "metadata": {},
   "outputs": [
    {
     "name": "stdout",
     "output_type": "stream",
     "text": [
      "0 duplicate value exists at 4\n",
      "1 duplicate value exists at 5\n",
      "4 duplicate value exists at 0\n",
      "5 duplicate value exists at 1\n"
     ]
    }
   ],
   "source": [
    "# identify duplicate values from list\n",
    "list2=[45,23,1,67,45,23,39,3]\n",
    "j=0\n",
    "for i in range(len(list2)):\n",
    "    j=j+1\n",
    "    for j in range(len(list2)):\n",
    "        if list2[j]==list2[i] and i!=j:\n",
    "            \n",
    "            print(str(i) + \" duplicate value exists at \" + str(j))"
   ]
  },
  {
   "cell_type": "code",
   "execution_count": 11,
   "id": "1ae76af5",
   "metadata": {},
   "outputs": [
    {
     "name": "stdout",
     "output_type": "stream",
     "text": [
      "enter ther key you want to add: val2\n",
      "key not exist\n"
     ]
    }
   ],
   "source": [
    "#check if key already exist\n",
    "dict={'key1':'val1' , 'key2':'val2'}\n",
    "give_key=input(\"enter ther key you want to add: \")\n",
    "def check_key():\n",
    "    for key,value in dict.items():\n",
    "        if key==give_key:\n",
    "            return(\"key already exist\")\n",
    "        else:\n",
    "            return(\"key not exist\")\n",
    "print(check_key())"
   ]
  },
  {
   "cell_type": "code",
   "execution_count": null,
   "id": "96cb71b8",
   "metadata": {},
   "outputs": [],
   "source": []
  }
 ],
 "metadata": {
  "kernelspec": {
   "display_name": "Python 3",
   "language": "python",
   "name": "python3"
  },
  "language_info": {
   "codemirror_mode": {
    "name": "ipython",
    "version": 3
   },
   "file_extension": ".py",
   "mimetype": "text/x-python",
   "name": "python",
   "nbconvert_exporter": "python",
   "pygments_lexer": "ipython3",
   "version": "3.8.8"
  }
 },
 "nbformat": 4,
 "nbformat_minor": 5
}
